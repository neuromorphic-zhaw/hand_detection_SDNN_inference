{
 "cells": [
  {
   "cell_type": "markdown",
   "metadata": {},
   "source": [
    "# Joint tracking based on dynamic neural fields (DNFs) and multi-object tracking (MOT)"
   ]
  },
  {
   "cell_type": "code",
   "execution_count": 1,
   "metadata": {},
   "outputs": [
    {
     "name": "stderr",
     "output_type": "stream",
     "text": [
      "/home/azza/zhaw/intel_dev/oasis-hackathon/.venv/lib/python3.10/site-packages/matplotlib/projections/__init__.py:63: UserWarning: Unable to import Axes3D. This may be due to multiple versions of Matplotlib being installed (e.g. as a system package and as a pip package). As a result, the 3D projection is not available.\n",
      "  warnings.warn(\"Unable to import Axes3D. This may be due to multiple versions of \"\n"
     ]
    }
   ],
   "source": [
    "import numpy as np\n",
    "import matplotlib.pyplot as plt\n",
    "\n",
    "from lava.magma.core.run_conditions import RunSteps\n",
    "from lava.magma.core.run_configs import Loihi2HwCfg\n",
    "from lava.proc import embedded_io as eio\n",
    "from lava.proc import io\n",
    "\n",
    "# import torch\n",
    "from dataset import DHP19NetDataset"
   ]
  },
  {
   "cell_type": "code",
   "execution_count": 5,
   "metadata": {},
   "outputs": [],
   "source": [
    "# Set paths to model and data\n",
    "project_path = './'\n",
    "event_data_path = project_path + '../data/dhp19/session5/'\n",
    "# paramters of the traininf data\n",
    "img_width = 344\n",
    "img_height = 260\n",
    "downsample_factor = 2\n",
    "xy_coord_vec_length = int((img_width + img_height)/downsample_factor)"
   ]
  },
  {
   "cell_type": "code",
   "execution_count": 6,
   "metadata": {},
   "outputs": [],
   "source": [
    "# Create Dataset instance\n",
    "cam_idxs = [1,2] # camera index to train on 1,2 are frontal views\n",
    "seq_length = 8 # number of event frames per sequence to be shown to the SDNN\n",
    "joint_idxs = [7, 8] # joint indices to train on\n",
    "num_joints = len(joint_idxs)"
   ]
  },
  {
   "cell_type": "code",
   "execution_count": 7,
   "metadata": {},
   "outputs": [
    {
     "name": "stdout",
     "output_type": "stream",
     "text": [
      "Dataset loaded: 344 samples found\n"
     ]
    }
   ],
   "source": [
    "dataset = DHP19NetDataset(path=event_data_path, joint_idxs=joint_idxs, cam_id=cam_idxs[0], num_time_steps=seq_length)\n",
    "print('Dataset loaded: ' + str(len(dataset)) + ' samples found')"
   ]
  },
  {
   "cell_type": "code",
   "execution_count": null,
   "metadata": {},
   "outputs": [],
   "source": [
    "sample = come"
   ]
  }
 ],
 "metadata": {
  "kernelspec": {
   "display_name": ".venv",
   "language": "python",
   "name": "python3"
  },
  "language_info": {
   "codemirror_mode": {
    "name": "ipython",
    "version": 3
   },
   "file_extension": ".py",
   "mimetype": "text/x-python",
   "name": "python",
   "nbconvert_exporter": "python",
   "pygments_lexer": "ipython3",
   "version": "3.10.12"
  }
 },
 "nbformat": 4,
 "nbformat_minor": 2
}
